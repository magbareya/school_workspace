{
 "cells": [
  {
   "cell_type": "markdown",
   "id": "48b7c07f",
   "metadata": {},
   "source": [
    "<style>\n",
    "/* ---- RTL ONLY for Markdown render (Lab + classic) ---- */\n",
    ".jp-RenderedHTMLCommon,\n",
    ".jp-RenderedHTMLCommon *:not(code):not(pre),\n",
    "div.text_cell_render,\n",
    "div.text_cell_render *:not(code):not(pre),\n",
    "div.rendered_html,\n",
    "div.rendered_html *:not(code):not(pre) {\n",
    "  direction: rtl !important;\n",
    "  text-align: right !important;\n",
    "  unicode-bidi: plaintext !important;\n",
    "  font-family: \"Amiri\", \"Scheherazade\", \"Arial\", sans-serif !important;\n",
    "}\n",
    "\n",
    "/* Place bullets on the right for lists */\n",
    ".jp-RenderedHTMLCommon ul, .jp-RenderedHTMLCommon ol,\n",
    "div.text_cell_render ul, div.text_cell_render ol,\n",
    "div.rendered_html ul, div.rendered_html ol {\n",
    "  padding-right: 1.2em !important;\n",
    "  padding-left: 0 !important;\n",
    "}\n",
    "\n",
    "/* ---- KEEP CODE LTR (inputs & outputs) ---- */\n",
    "\n",
    "/* JupyterLab areas */\n",
    ".jp-CodeCell, .jp-InputArea, .jp-InputPrompt,\n",
    ".jp-OutputArea, .jp-RenderedText, .jp-OutputArea pre, .jp-OutputArea code,\n",
    ".jp-Cell .jp-Editor {\n",
    "  direction: ltr !important;\n",
    "  text-align: left !important;\n",
    "  unicode-bidi: embed !important;\n",
    "  font-family: monospace !important;\n",
    "}\n",
    "\n",
    "/* Classic Notebook areas */\n",
    "div.code_cell, div.input, div.output_area pre, div.output_subarea pre,\n",
    "pre, code, .rendered_html code {\n",
    "  direction: ltr !important;\n",
    "  text-align: left !important;\n",
    "  unicode-bidi: embed !important;\n",
    "  font-family: monospace !important;\n",
    "}\n",
    "\n",
    "/* Inline code inside Markdown should stay LTR */\n",
    ".jp-RenderedHTMLCommon code,\n",
    "div.text_cell_render code,\n",
    "div.rendered_html code {\n",
    "  direction: ltr !important;\n",
    "  unicode-bidi: embed !important;\n",
    "}\n",
    "\n",
    ".ltr {\n",
    "    direction: ltr;\n",
    "    text-align: left;\n",
    "}\n",
    "\n",
    "@page {\n",
    "  size: A4;\n",
    "  margin: 2cm 2cm 2.5cm 2cm; /* bottom margin big enough for footer */\n",
    "}\n",
    "@page {\n",
    "  @bottom-left {\n",
    "    content: \"مدرسة التسامح الشاملة - أم الفحم\";\n",
    "    font-size: 10pt;\n",
    "    font-family: Amiri !important;\n",
    "    direction: rtl;\n",
    "    border-top: 2px solid black; /* line above footer */\n",
    "    padding-top: 2px; /* spacing between line and text */\n",
    "    border-color: green;\n",
    "  }\n",
    "  @bottom-right {\n",
    "    content: \"الأستاذ محمود اغبارية\";\n",
    "    font-size: 10pt;\n",
    "    font-family: Amiri !important;\n",
    "    direction: rtl;\n",
    "    border-top: 2px solid black; /* line above footer */\n",
    "    padding-top: 2px; /* spacing between line and text */\n",
    "    border-color: green;\n",
    "  }\n",
    "  @bottom-center {\n",
    "    content: counter(page);\n",
    "    font-size: 10pt;\n",
    "    border-top: 2px solid black; /* line above footer */\n",
    "    padding-top: 2px; /* spacing between line and text */\n",
    "    border-color: green;\n",
    "  }\n",
    "}\n",
    "\n",
    "</style>\n"
   ]
  },
  {
   "cell_type": "markdown",
   "id": "intro",
   "metadata": {},
   "source": [
    "# تعليم جملة الشرط if في C#"
   ]
  },
  {
   "cell_type": "markdown",
   "id": "bool",
   "metadata": {},
   "source": [
    "## 1. المتغير المنطقي `bool` والقيم `True` / `False`\n",
    "\n",
    "في لغة C#، النوع **`bool`** يُستخدم لتخزين قيمتين فقط:\n",
    "- **true** (صحيح)\n",
    "- **false** (خاطئ)\n",
    "\n",
    "هذه القيم تُستخدم في القرارات الشرطية. مثال:"
   ]
  },
  {
   "cell_type": "code",
   "execution_count": null,
   "id": "bool-example",
   "metadata": {},
   "outputs": [],
   "source": [
    "bool isRaining = true;\n",
    "bool hasUmbrella = false;\n",
    "\n",
    "Console.WriteLine(isRaining);   // True\n",
    "Console.WriteLine(hasUmbrella); // False"
   ]
  },
  {
   "cell_type": "markdown",
   "id": "comparisons",
   "metadata": {},
   "source": [
    "### العمليات البوليانية (المقارنات)\n",
    "\n",
    "يمكننا استخدام المقارنات المنطقية لإنتاج قيم **bool**:\n",
    "\n",
    "| العملية | المعنى | مثال | النتيجة |\n",
    "|----------|--------|-------|----------|\n",
    "| `>` | أكبر من | 5 > 3 | true |\n",
    "| `<` | أصغر من | 2 < 1 | false |\n",
    "| `==` | يساوي | 4 == 4 | true |\n",
    "| `!=` | لا يساوي | 7 != 5 | true |\n",
    "| `>=` | أكبر أو يساوي | 5 >= 5 | true |\n",
    "| `<=` | أصغر أو يساوي | 3 <= 2 | false |"
   ]
  },
  {
   "cell_type": "markdown",
   "id": "if-else",
   "metadata": {},
   "source": [
    "## 2. جملة if-else الكاملة بالأقواس\n",
    "\n",
    "نستخدم **if** لاتخاذ قرار عندما يكون الشرط صحيحًا (**true**). ويمكننا استخدام **else** لتنفيذ كود آخر إذا كان الشرط خاطئًا (**false**).\n",
    "\n",
    "الصيغة العامة:\n",
    "```csharp\n",
    "if (الشرط)\n",
    "{\n",
    "    // كود يُنفّذ إذا كان الشرط صحيحًا\n",
    "}\n",
    "else\n",
    "{\n",
    "    // كود يُنفّذ إذا كان الشرط خاطئًا\n",
    "}\n",
    "```"
   ]
  },
  {
   "cell_type": "code",
   "execution_count": null,
   "id": "if-else-example",
   "metadata": {},
   "outputs": [],
   "source": [
    "int age = 20;\n",
    "\n",
    "if (age >= 18)\n",
    "{\n",
    "    Console.WriteLine(\"مسموح لك بالدخول.\");\n",
    "}\n",
    "else\n",
    "{\n",
    "    Console.WriteLine(\"يجب أن تكون أكبر من 18.\");\n",
    "}"
   ]
  },
  {
   "cell_type": "markdown",
   "id": "if-without-else",
   "metadata": {},
   "source": [
    "## 3. يمكن حذف else إذا كانت فارغة\n",
    "\n",
    "ليس من الضروري دائمًا استخدام **else**. إذا لم يكن هناك شيء نريد فعله عندما يكون الشرط خاطئًا، يمكننا ببساطة حذفها:"
   ]
  },
  {
   "cell_type": "code",
   "execution_count": null,
   "id": "no-else-example",
   "metadata": {},
   "outputs": [],
   "source": [
    "bool isStudent = true;\n",
    "\n",
    "if (isStudent)\n",
    "{\n",
    "    Console.WriteLine(\"أهلًا بالطالب!\");\n",
    "}\n",
    "// لا حاجة لـ else هنا"
   ]
  },
  {
   "cell_type": "markdown",
   "id": "logical-ops",
   "metadata": {},
   "source": [
    "## 4. العمليات المنطقية && و ||\n",
    "\n",
    "- **&&** تعني (و): الشرطان يجب أن يكونا **صحيحين** معًا.\n",
    "- **||** تعني (أو): يكفي أن يكون **واحد** من الشرطين صحيحًا.\n",
    "\n",
    "أمثلة:"
   ]
  },
  {
   "cell_type": "code",
   "execution_count": null,
   "id": "logical-example",
   "metadata": {},
   "outputs": [],
   "source": [
    "bool hasTicket = true;\n",
    "bool isVIP = false;\n",
    "\n",
    "// مثال على &&\n",
    "if (hasTicket && isVIP)\n",
    "{\n",
    "    Console.WriteLine(\"أهلًا بك في المقعد المميز!\");\n",
    "}\n",
    "else\n",
    "{\n",
    "    Console.WriteLine(\"مقعد عادي.\");\n",
    "}\n",
    "\n",
    "// مثال على ||\n",
    "bool hasInvitation = false;\n",
    "\n",
    "if (hasTicket || hasInvitation)\n",
    "{\n",
    "    Console.WriteLine(\"يمكنك الدخول إلى الحفل.\");\n",
    "}\n",
    "else\n",
    "{\n",
    "    Console.WriteLine(\"لا يُسمح بالدخول بدون تذكرة أو دعوة.\");\n",
    "}"
   ]
  },
  {
   "cell_type": "markdown",
   "id": "nested-if",
   "metadata": {},
   "source": [
    "## 5. الجمل الشرطية المتداخلة (Nested if statements)\n",
    "\n",
    "يمكننا وضع **if** داخل **if** أخرى عندما نحتاج التحقق من أكثر من شرط بطريقة متسلسلة.\n",
    "\n",
    "مثال:"
   ]
  },
  {
   "cell_type": "code",
   "execution_count": null,
   "id": "nested-example",
   "metadata": {},
   "outputs": [],
   "source": [
    "int score = 85;\n",
    "\n",
    "if (score >= 50)\n",
    "{\n",
    "    Console.WriteLine(\"ناجح.\");\n",
    "\n",
    "    if (score >= 90)\n",
    "    {\n",
    "        Console.WriteLine(\"امتياز!\");\n",
    "    }\n",
    "    else if (score >= 75)\n",
    "    {\n",
    "        Console.WriteLine(\"جيد جدًا.\");\n",
    "    }\n",
    "    else\n",
    "    {\n",
    "        Console.WriteLine(\"جيد.\");\n",
    "    }\n",
    "}\n",
    "else\n",
    "{\n",
    "    Console.WriteLine(\"راسب.\");\n",
    "}"
   ]
  },
  {
   "cell_type": "markdown",
   "id": "summary",
   "metadata": {},
   "source": [
    "## خلاصة\n",
    "- **bool** نوع لتخزين القيم المنطقية (true/false)\n",
    "- **if-else** تُستخدم لاتخاذ قرارات في الكود\n",
    "- يمكن حذف **else** إذا لم نكن بحاجة إليها\n",
    "- نستخدم **&&** (و) و **||** (أو) للجمع بين أكثر من شرط\n",
    "- يمكن تداخل الجمل الشرطية لمعالجة حالات متعددة بشكل متسلسل"
   ]
  }
 ],
 "metadata": {
  "kernelspec": {
   "display_name": "C#",
   "language": "C#",
   "name": "csharp"
  },
  "language_info": {
   "name": "csharp"
  }
 },
 "nbformat": 4,
 "nbformat_minor": 5
}
