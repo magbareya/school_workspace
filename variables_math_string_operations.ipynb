{
 "cells": [
  {
   "cell_type": "markdown",
   "id": "377d88b0",
   "metadata": {},
   "source": [
    "<style>\n",
    "/* ---- RTL ONLY for Markdown render (Lab + classic) ---- */\n",
    ".jp-RenderedHTMLCommon,\n",
    ".jp-RenderedHTMLCommon *:not(code):not(pre),\n",
    "div.text_cell_render,\n",
    "div.text_cell_render *:not(code):not(pre),\n",
    "div.rendered_html,\n",
    "div.rendered_html *:not(code):not(pre) {\n",
    "  direction: rtl !important;\n",
    "  text-align: right !important;\n",
    "  unicode-bidi: plaintext !important;\n",
    "  font-family: \"Amiri\", \"Scheherazade\", \"Arial\", sans-serif !important;\n",
    "}\n",
    "\n",
    "/* Place bullets on the right for lists */\n",
    ".jp-RenderedHTMLCommon ul, .jp-RenderedHTMLCommon ol,\n",
    "div.text_cell_render ul, div.text_cell_render ol,\n",
    "div.rendered_html ul, div.rendered_html ol {\n",
    "  padding-right: 1.2em !important;\n",
    "  padding-left: 0 !important;\n",
    "}\n",
    "\n",
    "/* ---- KEEP CODE LTR (inputs & outputs) ---- */\n",
    "\n",
    "/* JupyterLab areas */\n",
    ".jp-CodeCell, .jp-InputArea, .jp-InputPrompt,\n",
    ".jp-OutputArea, .jp-RenderedText, .jp-OutputArea pre, .jp-OutputArea code,\n",
    ".jp-Cell .jp-Editor {\n",
    "  direction: ltr !important;\n",
    "  text-align: left !important;\n",
    "  unicode-bidi: embed !important;\n",
    "  font-family: monospace !important;\n",
    "}\n",
    "\n",
    "/* Classic Notebook areas */\n",
    "div.code_cell, div.input, div.output_area pre, div.output_subarea pre,\n",
    "pre, code, .rendered_html code {\n",
    "  direction: ltr !important;\n",
    "  text-align: left !important;\n",
    "  unicode-bidi: embed !important;\n",
    "  font-family: monospace !important;\n",
    "}\n",
    "\n",
    "/* Inline code inside Markdown should stay LTR */\n",
    ".jp-RenderedHTMLCommon code,\n",
    "div.text_cell_render code,\n",
    "div.rendered_html code {\n",
    "  direction: ltr !important;\n",
    "  unicode-bidi: embed !important;\n",
    "}\n",
    "\n",
    ".ltr {\n",
    "    direction: ltr;\n",
    "    text-align: left;\n",
    "}\n",
    "\n",
    "@page {\n",
    "  size: A4;\n",
    "  margin: 2cm 2cm 2.5cm 2cm; /* bottom margin big enough for footer */\n",
    "}\n",
    "@page {\n",
    "  @bottom-left {\n",
    "    content: \"مدرسة التسامح الشاملة - أم الفحم\";\n",
    "    font-size: 10pt;\n",
    "    font-family: Amiri !important;\n",
    "    direction: rtl;\n",
    "    border-top: 2px solid black; /* line above footer */\n",
    "    padding-top: 2px; /* spacing between line and text */\n",
    "    border-color: green;\n",
    "  }\n",
    "  @bottom-right {\n",
    "    content: \"الأستاذ محمود اغبارية\";\n",
    "    font-size: 10pt;\n",
    "    font-family: Amiri !important;\n",
    "    direction: rtl;\n",
    "    border-top: 2px solid black; /* line above footer */\n",
    "    padding-top: 2px; /* spacing between line and text */\n",
    "    border-color: green;\n",
    "  }\n",
    "  @bottom-center {\n",
    "    content: counter(page);\n",
    "    font-size: 10pt;\n",
    "    border-top: 2px solid black; /* line above footer */\n",
    "    padding-top: 2px; /* spacing between line and text */\n",
    "    border-color: green;\n",
    "  }\n",
    "}\n",
    "\n",
    "</style>\n"
   ]
  },
  {
   "cell_type": "markdown",
   "id": "0bdefd5f",
   "metadata": {},
   "source": [
    "# المتغيرات"
   ]
  },
  {
   "cell_type": "markdown",
   "id": "0b8372fb",
   "metadata": {},
   "source": [
    "تعريف المتغيرات يكون بواسطة الأمر التالي:\n",
    "\n",
    "```csharp\n",
    "var_type var_name = var_value;\n",
    "```"
   ]
  },
  {
   "cell_type": "markdown",
   "id": "d0acce39",
   "metadata": {},
   "source": [
    "أنواع المتغيرات التي سنستخدمها في #C هي:\n",
    "\n",
    "<table style=\"width:100%; border-collapse: collapse; text-align: center;\", dir='rtl'>\n",
    "  <tr>\n",
    "    <th style=\"border: 1px solid black;\">النوع (Type)</th>\n",
    "    <th style=\"border: 1px solid black;\">مثال (Example)</th>\n",
    "    <th style=\"border: 1px solid black;\">الوصف (Description)</th>\n",
    "  </tr>\n",
    "  <tr>\n",
    "    <td style=\"border: 1px solid black;\">int</td>\n",
    "    <td style=\"border: 1px solid black;\", dir='ltr'>int x = 5;</td>\n",
    "    <td style=\"border: 1px solid black;\">عدد صحيح (Integer)</td>\n",
    "  </tr>\n",
    "  <tr>\n",
    "    <td style=\"border: 1px solid black;\">double</td>\n",
    "    <td style=\"border: 1px solid black;\", dir='ltr'>double y = 3.14;</td>\n",
    "    <td style=\"border: 1px solid black;\">عدد عشري (Floating-point)</td>\n",
    "  </tr>\n",
    "  <tr>\n",
    "    <td style=\"border: 1px solid black;\">string</td>\n",
    "    <td style=\"border: 1px solid black;\", dir='ltr'>string name = \"Ali\";</td>\n",
    "    <td style=\"border: 1px solid black;\">سلسلة نصية (Text)</td>\n",
    "  </tr>\n",
    "  <tr>\n",
    "    <td style=\"border: 1px solid black;\">char</td>\n",
    "    <td style=\"border: 1px solid black;\", dir='ltr'>char grade = 'A';</td>\n",
    "    <td style=\"border: 1px solid black;\">حرف واحد (Character)</td>\n",
    "  </tr>\n",
    "  <tr>\n",
    "    <td style=\"border: 1px solid black;\">bool</td>\n",
    "    <td style=\"border: 1px solid black;\", dir='ltr'>bool flag = true;</td>\n",
    "    <td style=\"border: 1px solid black;\">قيمة منطقية (True/False)</td>\n",
    "  </tr>\n",
    "</table>\n"
   ]
  },
  {
   "cell_type": "markdown",
   "id": "8f3c9d1d",
   "metadata": {},
   "source": [
    "<img src=\"images/variable_in_memory.png\" alt=\"My image\" width=\"300\" style=\"display:block; margin:auto;\">"
   ]
  },
  {
   "cell_type": "code",
   "execution_count": null,
   "metadata": {
    "language_info": {
     "name": "polyglot-notebook"
    },
    "polyglot_notebook": {
     "kernelName": "csharp"
    }
   },
   "outputs": [
    {
     "name": "stdout",
     "output_type": "stream",
     "text": [
      "x = 5\n",
      "y = 3.14\n",
      "name = Ali\n",
      "grade = A\n",
      "flag = True\n"
     ]
    }
   ],
   "source": [
    "int x = 5;\n",
    "double y = 3.14;\n",
    "string name = \"Ali\";\n",
    "char grade = 'A';\n",
    "bool flag = true;\n",
    "\n",
    "Console.Write(\"x = \"); // يطبع التعبير \"x =\"\n",
    "Console.WriteLine(x); // يطبع قيمة x مع سطر جديد\n",
    "Console.Write(\"y = \"); // يطبع التعبير \"y =\"\n",
    "Console.WriteLine(y); // يطبع قيمة y مع سطر جديد\n",
    "Console.Write(\"name = \"); // يطبع التعبير \"name =\"\n",
    "Console.WriteLine(name); // يطبع قيمة name مع سطر جديد\n",
    "Console.Write(\"grade = \"); // يطبع التعبير \"grade =\"\n",
    "Console.WriteLine(grade); // يطبع قيمة grade مع سطر جديد\n",
    "Console.Write(\"flag = \"); // يطبع التعبير \"flag =\"\n",
    "Console.WriteLine(flag); // يطبع قيمة flag مع سطر جديد"
   ]
  },
  {
   "cell_type": "code",
   "execution_count": 1,
   "id": "3585458b",
   "metadata": {
    "language_info": {
     "name": "polyglot-notebook"
    },
    "polyglot_notebook": {
     "kernelName": "csharp"
    }
   },
   "outputs": [
    {
     "name": "stdout",
     "output_type": "stream",
     "text": [
      "9\r\n"
     ]
    }
   ],
   "source": [
    "int x = 4;\n",
    "int y = 5;\n",
    "int z = x + y;\n",
    "Console.WriteLine(z);"
   ]
  },
  {
   "cell_type": "code",
   "execution_count": 1,
   "id": "135bfb49",
   "metadata": {
    "language_info": {
     "name": "polyglot-notebook"
    },
    "polyglot_notebook": {
     "kernelName": "csharp"
    }
   },
   "outputs": [
    {
     "name": "stdout",
     "output_type": "stream",
     "text": [
      "8.2\r\n"
     ]
    }
   ],
   "source": [
    "int a = 5;\n",
    "double b = 3.2;\n",
    "Console.WriteLine(a + b);"
   ]
  }
 ],
 "metadata": {
  "kernelspec": {
   "display_name": ".NET (C#)",
   "language": "C#",
   "name": ".net-csharp"
  },
  "language_info": {
   "name": "polyglot-notebook"
  },
  "polyglot_notebook": {
   "kernelInfo": {
    "defaultKernelName": "csharp",
    "items": [
     {
      "aliases": [],
      "name": "csharp"
     }
    ]
   }
  }
 },
 "nbformat": 4,
 "nbformat_minor": 5
}
