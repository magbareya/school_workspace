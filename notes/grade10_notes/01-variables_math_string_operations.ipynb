{
 "cells": [
  {
   "cell_type": "markdown",
   "id": "377d88b0",
   "metadata": {},
   "source": [
    "<style>\n",
    "/* ---- RTL ONLY for Markdown render (Lab + classic) ---- */\n",
    ".jp-RenderedHTMLCommon,\n",
    ".jp-RenderedHTMLCommon *:not(code):not(pre),\n",
    "div.text_cell_render,\n",
    "div.text_cell_render *:not(code):not(pre),\n",
    "div.rendered_html,\n",
    "div.rendered_html *:not(code):not(pre) {\n",
    "  direction: rtl !important;\n",
    "  text-align: right !important;\n",
    "  unicode-bidi: plaintext !important;\n",
    "  font-family: \"Amiri\", \"Scheherazade\", \"Arial\", sans-serif !important;\n",
    "}\n",
    "\n",
    "/* Place bullets on the right for lists */\n",
    ".jp-RenderedHTMLCommon ul, .jp-RenderedHTMLCommon ol,\n",
    "div.text_cell_render ul, div.text_cell_render ol,\n",
    "div.rendered_html ul, div.rendered_html ol {\n",
    "  padding-right: 1.2em !important;\n",
    "  padding-left: 0 !important;\n",
    "}\n",
    "\n",
    "/* ---- KEEP CODE LTR (inputs & outputs) ---- */\n",
    "\n",
    "/* JupyterLab areas */\n",
    ".jp-CodeCell, .jp-InputArea, .jp-InputPrompt,\n",
    ".jp-OutputArea, .jp-RenderedText, .jp-OutputArea pre, .jp-OutputArea code,\n",
    ".jp-Cell .jp-Editor {\n",
    "  direction: ltr !important;\n",
    "  text-align: left !important;\n",
    "  unicode-bidi: embed !important;\n",
    "  font-family: monospace !important;\n",
    "}\n",
    "\n",
    "/* Classic Notebook areas */\n",
    "div.code_cell, div.input, div.output_area pre, div.output_subarea pre,\n",
    "pre, code, .rendered_html code {\n",
    "  direction: ltr !important;\n",
    "  text-align: left !important;\n",
    "  unicode-bidi: embed !important;\n",
    "  font-family: monospace !important;\n",
    "}\n",
    "\n",
    "/* Inline code inside Markdown should stay LTR */\n",
    ".jp-RenderedHTMLCommon code,\n",
    "div.text_cell_render code,\n",
    "div.rendered_html code {\n",
    "  direction: ltr !important;\n",
    "  unicode-bidi: embed !important;\n",
    "}\n",
    "\n",
    ".ltr {\n",
    "    direction: ltr;\n",
    "    text-align: left;\n",
    "}\n",
    "\n",
    "/* Wrap long lines in code cells */\n",
    ".jp-Cell .jp-Editor {\n",
    "    white-space: pre-wrap !important;\n",
    "    word-wrap: break-word !important;\n",
    "    overflow-wrap: break-word !important;\n",
    "}\n",
    "\n",
    "@page {\n",
    "  size: A4;\n",
    "  margin: 2cm 2cm 2.5cm 2cm; /* bottom margin big enough for footer */\n",
    "}\n",
    "@page {\n",
    "  @bottom-left {\n",
    "    content: \"مدرسة التسامح الشاملة - أم الفحم\";\n",
    "    font-size: 10pt;\n",
    "    font-family: Amiri !important;\n",
    "    direction: rtl;\n",
    "    border-top: 2px solid black; /* line above footer */\n",
    "    padding-top: 2px; /* spacing between line and text */\n",
    "    border-color: green;\n",
    "  }\n",
    "  @bottom-right {\n",
    "    content: \"الأستاذ محمود اغبارية\";\n",
    "    font-size: 10pt;\n",
    "    font-family: Amiri !important;\n",
    "    direction: rtl;\n",
    "    border-top: 2px solid black; /* line above footer */\n",
    "    padding-top: 2px; /* spacing between line and text */\n",
    "    border-color: green;\n",
    "  }\n",
    "  @bottom-center {\n",
    "    content: counter(page);\n",
    "    font-size: 10pt;\n",
    "    border-top: 2px solid black; /* line above footer */\n",
    "    padding-top: 2px; /* spacing between line and text */\n",
    "    border-color: green;\n",
    "  }\n",
    "}\n",
    "\n",
    "</style>\n"
   ]
  },
  {
   "cell_type": "markdown",
   "id": "0bdefd5f",
   "metadata": {},
   "source": [
    "# المتغيرات"
   ]
  },
  {
   "cell_type": "markdown",
   "id": "0b8372fb",
   "metadata": {},
   "source": [
    "تعريف المتغيرات يكون بواسطة الأمر التالي:\n",
    "\n",
    "```csharp\n",
    "var_type var_name = var_value;\n",
    "```\n",
    "\n",
    "* `var_typ` هو نوع المتغير\n",
    "* `var_name` هو اسم المتغير\n",
    "* `var_value` هي قيمة المتغير.\n"
   ]
  },
  {
   "cell_type": "markdown",
   "id": "d0acce39",
   "metadata": {},
   "source": [
    "## أنواع المتغيرات في لغة C#\n",
    "أنواع المتغيرات التي سنستخدمها في #C هي:\n",
    "\n",
    "<table style=\"border-collapse: collapse; text-align: center;\", align=\"center\", dir='rtl'>\n",
    "  <tr>\n",
    "    <th style=\"border: 1px solid black;\">النوع (Type)</th>\n",
    "    <th style=\"border: 1px solid black;\">مثال (Example)</th>\n",
    "    <th style=\"border: 1px solid black;\">الوصف (Description)</th>\n",
    "  </tr>\n",
    "  <tr>\n",
    "    <td style=\"border: 1px solid black;\">int</td>\n",
    "    <td style=\"border: 1px solid black;\", dir='ltr'>int x = 5;</td>\n",
    "    <td style=\"border: 1px solid black;\">عدد صحيح (Integer)</td>\n",
    "  </tr>\n",
    "  <tr>\n",
    "    <td style=\"border: 1px solid black;\">double</td>\n",
    "    <td style=\"border: 1px solid black;\", dir='ltr'>double y = 3.14;</td>\n",
    "    <td style=\"border: 1px solid black;\">عدد عشري (Floating-point)</td>\n",
    "  </tr>\n",
    "  <tr>\n",
    "    <td style=\"border: 1px solid black;\">string</td>\n",
    "    <td style=\"border: 1px solid black;\", dir='ltr'>string name = \"Ali\";</td>\n",
    "    <td style=\"border: 1px solid black;\">سلسلة نصية (Text)</td>\n",
    "  </tr>\n",
    "  <tr>\n",
    "    <td style=\"border: 1px solid black;\">char</td>\n",
    "    <td style=\"border: 1px solid black;\", dir='ltr'>char grade = 'A';</td>\n",
    "    <td style=\"border: 1px solid black;\">حرف واحد (Character)</td>\n",
    "  </tr>\n",
    "  <tr>\n",
    "    <td style=\"border: 1px solid black;\">bool</td>\n",
    "    <td style=\"border: 1px solid black;\", dir='ltr'>bool flag = true;</td>\n",
    "    <td style=\"border: 1px solid black;\">قيمة منطقية (True/False)</td>\n",
    "  </tr>\n",
    "</table>\n"
   ]
  },
  {
   "cell_type": "code",
   "execution_count": null,
   "metadata": {
    "language_info": {
     "name": "polyglot-notebook"
    },
    "polyglot_notebook": {
     "kernelName": "csharp"
    }
   },
   "outputs": [
    {
     "name": "stdout",
     "output_type": "stream",
     "text": [
      "x = 5\n",
      "y = 3.14\n",
      "name = Ali\n",
      "grade = A\n",
      "flag = True\n"
     ]
    }
   ],
   "source": [
    "int x = 5;\n",
    "double y = 3.14;\n",
    "string name = \"Ali\";\n",
    "char grade = 'A';\n",
    "bool flag = true;\n",
    "\n",
    "Console.Write(\"x = \"); // يطبع التعبير \"x =\"\n",
    "Console.WriteLine(x); // يطبع قيمة x مع سطر جديد\n",
    "Console.Write(\"y = \"); // يطبع التعبير \"y =\"\n",
    "Console.WriteLine(y); // يطبع قيمة y مع سطر جديد\n",
    "Console.Write(\"name = \"); // يطبع التعبير \"name =\"\n",
    "Console.WriteLine(name); // يطبع قيمة name مع سطر جديد\n",
    "Console.Write(\"grade = \"); // يطبع التعبير \"grade =\"\n",
    "Console.WriteLine(grade); // يطبع قيمة grade مع سطر جديد\n",
    "Console.Write(\"flag = \"); // يطبع التعبير \"flag =\"\n",
    "Console.WriteLine(flag); // يطبع قيمة flag مع سطر جديد"
   ]
  },
  {
   "cell_type": "markdown",
   "id": "a9a39b38",
   "metadata": {},
   "source": [
    "**قوانين وملاحظات مهمة لتسمية المتغيرات:**\n",
    "* اسم المتغير مكون من: أحرف، أرقام، شَرطة سفلية (`_`) - يمنع استخدام رموز أخرى.\n",
    "* اسم المتغير يجب أن يبدأ بحرف (يمكن أن يبدأ أيضًا بشرطة سفلية، لكن هذا غير مفضل إلا في حالات خاصة)\n",
    "* أسماء المتغيرات حساسة لحالة الأحرف (كبيرة أو صغيرة)\n",
    "* يجب اختيار اسم معبّر للمتغير، مثلا: `grade`, `age`, `name`, `id`...\n",
    "* اسم المتغير ونوعه لا يمكن تغييرهما، أمّا القيمة فيمكن تغييرها لاحقًا خلال البرنامج\n",
    "* إذا كان اسم المتغير مكوّنًا من أكثر من كلمة، فالمتّبع أنّ أول حرف من كل كلمة ابتداء من الكلمة الثانية يبدأ بحرف كبير.\n",
    "\n",
    "\n",
    "<table style=\"border-collapse: collapse; text-align: center;\" align=\"center\", dir='rtl'>\n",
    "  <tr>\n",
    "    <th style=\"border: 1px solid black;\">اسم قانوني</th>\n",
    "    <th style=\"border: 1px solid black;\">اسم غير قانوني</th>\n",
    "    <th style=\"border: 1px solid black;\">اسم قانوني لكن غير مفضل</th>\n",
    "  </tr>\n",
    "  <tr>\n",
    "    <td style=\"border: 1px solid black;\">name</td>\n",
    "    <td style=\"border: 1px solid black;\", dir='ltr'>name-1</td>\n",
    "    <td style=\"border: 1px solid black;\">Name</td>\n",
    "  </tr>\n",
    "  <tr>\n",
    "    <td style=\"border: 1px solid black;\">grade1</td>\n",
    "    <td style=\"border: 1px solid black;\", dir='ltr'>grade#1</td>\n",
    "    <td style=\"border: 1px solid black;\">gg</td>\n",
    "  </tr>\n",
    "  <tr>\n",
    "    <td style=\"border: 1px solid black;\">firstName</td>\n",
    "    <td style=\"border: 1px solid black;\", dir='ltr'>first name</td>\n",
    "    <td style=\"border: 1px solid black;\">firstname</td>\n",
    "  </tr>\n",
    "  <tr>\n",
    "    <td style=\"border: 1px solid black;\">isEven</td>\n",
    "    <td style=\"border: 1px solid black;\", dir='ltr'>isEven?</td>\n",
    "    <td style=\"border: 1px solid black;\">isNotEven</td>\n",
    "  </tr>\n",
    "</table>\n",
    "\n",
    "\n",
    "* يمكن تأخير إعطاء القيمة للمتغير:\n",
    "```csharp\n",
    "var_type var_name;\n",
    "var_name = var_value\n",
    "```"
   ]
  },
  {
   "cell_type": "markdown",
   "id": "8f3c9d1d",
   "metadata": {},
   "source": [
    "<img src=\"../../images/variable_in_memory.png\" alt=\"My image\" width=\"300\" style=\"display:block; margin:auto;\">"
   ]
  },
  {
   "cell_type": "code",
   "execution_count": 2,
   "metadata": {
    "language_info": {
     "name": "polyglot-notebook"
    },
    "polyglot_notebook": {
     "kernelName": "csharp"
    }
   },
   "outputs": [
    {
     "name": "stdout",
     "output_type": "stream",
     "text": [
      "pi = 3.14\n",
      "pi = 3.14159265359\n"
     ]
    }
   ],
   "source": [
    "double pi; // تعريف متغير من نوع double، لكن لا يمكنني استخدامه قبل إعطائه قيمة\n",
    "pi = 3.14; // إعطاء المتغير pi قيمة، والآن يمكنني استخدامه\n",
    "Console.WriteLine(\"pi = \" + pi);\n",
    "pi = 3.14159265359; // يمكنني تغيير قيمة المتغير في أي وقت\n",
    "Console.WriteLine(\"pi = \" + pi);"
   ]
  },
  {
   "cell_type": "markdown",
   "id": "6e8f6734",
   "metadata": {},
   "source": [
    "* إعطاء قيمة للمتغير هو عملية نسخ للقيمة\n"
   ]
  },
  {
   "cell_type": "code",
   "execution_count": 6,
   "metadata": {
    "language_info": {
     "name": "polyglot-notebook"
    },
    "polyglot_notebook": {
     "kernelName": "csharp"
    }
   },
   "outputs": [
    {
     "name": "stdout",
     "output_type": "stream",
     "text": [
      "10\n",
      "10\n",
      "13\n",
      "20\n"
     ]
    }
   ],
   "source": [
    "int n1 = 10;\n",
    "int n2 = n1;\n",
    "Console.WriteLine(n2);\n",
    "n1 = 20;\n",
    "Console.WriteLine(n2);\n",
    "n2 = n2 + 3;\n",
    "Console.WriteLine(n2);\n",
    "Console.WriteLine(n1);"
   ]
  },
  {
   "cell_type": "markdown",
   "id": "96fd14fe",
   "metadata": {},
   "source": [
    "## القيم القصوى والدنيا لأنواع المتغيرات\n",
    "\n",
    "* القيم التي يمكن أن يأخذها متغير في البرمجة هي قيم محدودة، وليست لا نهائية.\n",
    "* لكل نوع من أنواع المتغيرات يمكننا فحص القيمة القصوى والقيمة الدنيا له باستخدام الخصائص `MinValue` و `MaxValue`"
   ]
  },
  {
   "cell_type": "code",
   "execution_count": 1,
   "id": "3585458b",
   "metadata": {
    "language_info": {
     "name": "polyglot-notebook"
    },
    "polyglot_notebook": {
     "kernelName": "csharp"
    }
   },
   "outputs": [
    {
     "name": "stdout",
     "output_type": "stream",
     "text": [
      "2147483647\n",
      "-2147483648\n",
      "1.7976931348623157E+308\n",
      "-1.7976931348623157E+308\n"
     ]
    }
   ],
   "source": [
    "Console.WriteLine(int.MaxValue);\n",
    "Console.WriteLine(int.MinValue);\n",
    "Console.WriteLine(double.MaxValue);\n",
    "Console.WriteLine(double.MinValue);"
   ]
  },
  {
   "cell_type": "markdown",
   "id": "04f67359",
   "metadata": {},
   "source": [
    "## العمليات الحسابية على المتغيرات\n",
    "\n",
    "* يمكننا استعمال المتغيرات مع عمليات حسابية.\n",
    "* التعابير الحسابية تراعي ترتيب العمليات الحسابية (الضرب والقسمة قبل الجمع والطرح)"
   ]
  },
  {
   "cell_type": "code",
   "execution_count": null,
   "id": "135bfb49",
   "metadata": {
    "language_info": {
     "name": "polyglot-notebook"
    },
    "polyglot_notebook": {
     "kernelName": "csharp"
    }
   },
   "outputs": [
    {
     "name": "stdout",
     "output_type": "stream",
     "text": [
      "12\n",
      "8\n",
      "20\n",
      "5\n",
      "0\n",
      "14\n",
      "96\n"
     ]
    }
   ],
   "source": [
    "int a = 10;\n",
    "int b = 2;\n",
    "Console.WriteLine(a + b); // الجمع\n",
    "Console.WriteLine(a - b); // الطرح\n",
    "Console.WriteLine(a * b); // الضرب\n",
    "Console.WriteLine(a / b); // القسمة\n",
    "Console.WriteLine(a % b); // باقي القسمة\n",
    "Console.WriteLine(a + 2 * b); // نأخذ بعين الاعتبار ترتيب العمليات: الضرب قبل الجمع.\n",
    "Console.WriteLine((a + b) * (a - b)); // استخدام الأقواس لتغيير ترتيب العمليات"
   ]
  },
  {
   "cell_type": "markdown",
   "id": "773432c5",
   "metadata": {},
   "source": [
    "## قراءة من المستخدم\n",
    "\n",
    "* لقراءة معطيات من المستخدم نستعمل الأمر التالي:\n",
    "`Console.ReadLine();`\n",
    "* هذا الأمر **دائمًا** يرجع قيمة من نوع `String`\n",
    "* **يجب** طباعة رسالة للمستخدم قبل قراءة المعطى تشرح للمستخدم ماذا عليه أن يُدخل\n",
    "* لكي نستقبل رقمًا من المستخدم نقوم بالتالي:\n",
    "```csharp\n",
    "Console.WriteLine(\"Please enter your age as integer: \");\n",
    "String sAge = Console.ReadLine();\n",
    "int age = int.Parse(sAge);\n",
    "Console.WriteLine(\"your arge is: \" + age);\n",
    "```\n",
    "\n",
    "* بنفس الطريقة يمكننا استخدام `double.Parse(s)`.\n"
   ]
  },
  {
   "cell_type": "markdown",
   "id": "196704ca",
   "metadata": {},
   "source": [
    "## تحويل بين `int` و `double`\n",
    "\n",
    "كل عدد صحيح هو عدد عشري بشكل طبيعي، فالتحويل من `int` إلى `double` مفهوم وواضح.\n",
    "\n",
    "انتبه أنّ `double` يمكنه استقبال عدد صحيح (لأنّ العدد الصحيح هو عدد عشري)"
   ]
  },
  {
   "cell_type": "code",
   "execution_count": 3,
   "metadata": {
    "language_info": {
     "name": "polyglot-notebook"
    },
    "polyglot_notebook": {
     "kernelName": "csharp"
    }
   },
   "outputs": [
    {
     "name": "stdout",
     "output_type": "stream",
     "text": [
      "5\n",
      "12\n"
     ]
    }
   ],
   "source": [
    "double numDouble = 5;\n",
    "Console.WriteLine(numDouble);\n",
    "int numInt = 12;\n",
    "numDouble = numInt;\n",
    "Console.WriteLine(numDouble);"
   ]
  },
  {
   "cell_type": "markdown",
   "id": "ea9abd94",
   "metadata": {},
   "source": [
    "إذا أردنا التحويل بالاتجاه المعاكس (أي من `double` إلى `int`)، فهذا الأمر سيؤدي إلى مشكلة، لأنّه ليس كل عدد عشري هو عدد صحيح.\n",
    "\n",
    "في هذه الحالة لا بدّ من أن نخبر الحاسوب أنّنا نريد تحويل العدد العشري إلى عدد صحيح عن طريق إضافة `(int)` قبل العدد العشري، وعندها سيحوّل الحاسوب العددَ العشري إلى عدد صحيح عن طريق حذف الجزء الكسري منه"
   ]
  },
  {
   "cell_type": "code",
   "execution_count": 5,
   "metadata": {
    "language_info": {
     "name": "polyglot-notebook"
    },
    "polyglot_notebook": {
     "kernelName": "csharp"
    }
   },
   "outputs": [
    {
     "name": "stdout",
     "output_type": "stream",
     "text": [
      "5\r\n"
     ]
    }
   ],
   "source": [
    "double numDouble2 = 5.24;\n",
    "int numInt2 = (int) numDouble2;\n",
    "Console.WriteLine(numInt2); // يطبع 5 فقط، لأنّ الجزء الكسري تمّ حذفه"
   ]
  },
  {
   "cell_type": "markdown",
   "id": "21328319",
   "metadata": {},
   "source": [
    "**انتبه** التحويل من عدد صحيح إلى عشري هو تحويل تلقائي، لأننا لن نخسر معه معلومات.\n",
    "أمّا التحويل من عدد عشري إلى عدد صحيح فيجب علينا أن نفعل ذلك بشكل واضح ومفصل عن طريق إضافة `(int)` لأنّنا سنخسر بعض المعلومات (الجزء الكسري من العدد سيضيع)"
   ]
  },
  {
   "cell_type": "markdown",
   "id": "d8fbcbf4",
   "metadata": {},
   "source": [
    "## عمليتا القسمة والباقي\n",
    "\n",
    "### عملية القسمة\n",
    "\n",
    "عند قسمة عددين صحيحين، فالنتيجة دائمًُا تكون عددًا صحيحًا. أي إذا كانت الإجابة تحتوي على كسور فإنّها تُحذف ويبقى العدد الصحيح فقط."
   ]
  },
  {
   "cell_type": "code",
   "execution_count": null,
   "metadata": {
    "language_info": {
     "name": "polyglot-notebook"
    },
    "polyglot_notebook": {
     "kernelName": "csharp"
    }
   },
   "outputs": [
    {
     "name": "stdout",
     "output_type": "stream",
     "text": [
      "2\r\n"
     ]
    }
   ],
   "source": [
    "int i1 = 8;\n",
    "int j1 = 3;\n",
    "Console.WriteLine(i1 / j1);"
   ]
  },
  {
   "cell_type": "markdown",
   "id": "fc9b276e",
   "metadata": {},
   "source": [
    "بالمقابل، إذا قسّمنا عددين عشريّين (من نوع `double`) فإنّ النتيجة ستكون عشرية أيضًا:"
   ]
  },
  {
   "cell_type": "code",
   "execution_count": 4,
   "metadata": {
    "language_info": {
     "name": "polyglot-notebook"
    },
    "polyglot_notebook": {
     "kernelName": "csharp"
    }
   },
   "outputs": [
    {
     "name": "stdout",
     "output_type": "stream",
     "text": [
      "2.6666666666666665\r\n"
     ]
    }
   ],
   "source": [
    "double d1 = 8;\n",
    "double d2 = 3;\n",
    "Console.WriteLine(d1 / d2);"
   ]
  },
  {
   "cell_type": "markdown",
   "id": "593a5357",
   "metadata": {},
   "source": [
    "وأيضًا إذا قسّمنا عددين أحدهما عشري والآخر صحيح، فالنتيجة عشرية (بغض النظر أيهما البسط أو المقام):"
   ]
  },
  {
   "cell_type": "code",
   "execution_count": 9,
   "metadata": {
    "language_info": {
     "name": "polyglot-notebook"
    },
    "polyglot_notebook": {
     "kernelName": "csharp"
    }
   },
   "outputs": [
    {
     "name": "stdout",
     "output_type": "stream",
     "text": [
      "2.6666666666666665\n",
      "0.375\n"
     ]
    }
   ],
   "source": [
    "int i2 = 8;\n",
    "double d3 = 3;\n",
    "Console.WriteLine(i2 / d3);\n",
    "Console.WriteLine(d3 / i2);"
   ]
  },
  {
   "cell_type": "markdown",
   "id": "deb4d06a",
   "metadata": {},
   "source": [
    "إذا أردنا تقسيم عددين صحيحين والحصول على نتيجة عشرية، فلا بد من تحويل أحد العددين إلى عدد عشري قبل القسمة عن طريق إضافة `(double)` قبل العدد:"
   ]
  },
  {
   "cell_type": "code",
   "execution_count": 14,
   "metadata": {
    "language_info": {
     "name": "polyglot-notebook"
    },
    "polyglot_notebook": {
     "kernelName": "csharp"
    }
   },
   "outputs": [
    {
     "name": "stdout",
     "output_type": "stream",
     "text": [
      "2\n",
      "2.6666666666666665\n",
      "2.6666666666666665\n"
     ]
    }
   ],
   "source": [
    "int i2 = 8;\n",
    "int j2 = 3;\n",
    "Console.WriteLine(i2 / j2); // النتيجة ستكون 2 فقط، لأنّنا نقسم عددين صحيحين\n",
    "Console.WriteLine(((double)i2) / j2); // النتيجة ستكون 2.66666666666667، لأنّنا حولنا i2 إلى عدد عشري\n",
    "Console.WriteLine(i2 / ((double) j2)); // النتيجة ستكون 2.66666666666667، لأنّنا حولنا j2 إلى عدد عشري"
   ]
  },
  {
   "cell_type": "markdown",
   "id": "5fc8c460",
   "metadata": {},
   "source": [
    "بالمقابل، إذا أردنا تقسيم عددين عشريين والحصول على نتيجة بصورة عدد صحيح (أي لا نريد الجزء الكسري) فيمكننا تحويل النتيجة إلى عدد صحيح عن طريق إضافة `(int)` قبل التعبير"
   ]
  },
  {
   "cell_type": "code",
   "execution_count": 16,
   "metadata": {
    "language_info": {
     "name": "polyglot-notebook"
    },
    "polyglot_notebook": {
     "kernelName": "csharp"
    }
   },
   "outputs": [
    {
     "name": "stdout",
     "output_type": "stream",
     "text": [
      "2\r\n"
     ]
    }
   ],
   "source": [
    "double d3 = 8.0;\n",
    "double d4 = 3.0;\n",
    "int i3 = (int)(d3 / d4);\n",
    "Console.WriteLine(i3);"
   ]
  },
  {
   "cell_type": "markdown",
   "metadata": {
    "language_info": {
     "name": "polyglot-notebook"
    },
    "polyglot_notebook": {
     "kernelName": "csharp"
    }
   },
   "source": [
    "**للتلخيص**\n",
    "\n",
    "* قسمة عددين لهما نفس النوع تكون من نفس نوعهما.\n",
    "* إذا كان أحد الأعداد في القسمة عشريًّا (`double`) فالنتيجة دائمًا عشرية\n",
    "* إذا أردنا تحويل تعبير إلى عدد صحيح فإنّنا نضيف قبله `(int)`.\n",
    "* إذا أردنا تحويل تعبير إلى عدد عشري فإنّنا نضيف قبله `(double)`."
   ]
  },
  {
   "cell_type": "markdown",
   "id": "be795856",
   "metadata": {},
   "source": [
    "**تمرين**:\n",
    "1. استقبل من المستخدم 3 علامات، ثم اطبع له معدّله\n",
    "2. استقبل من المستخدم 3 علامات، ولكل علامة استقبل عدد الوحدات، ثم اطبع له المعدّل."
   ]
  },
  {
   "cell_type": "markdown",
   "id": "e1898f4f",
   "metadata": {},
   "source": [
    "## عملية الباقي `%`\n",
    "\n",
    "الباقي بين عددين معرّف على أنّه الفرق بين العدد المقسوم وأكبر عدد أصغر منه يقسم عليه العدد مقسوم عليه.\n",
    "\n",
    "مثلًا: باقي قسمة 20 على 6 هو 2، لأن:\n",
    "\n",
    "- العدد المقسوم هو 20\n",
    "- العدد المقسوم عليه هو 6.\n",
    "- أكبر عدد أصغر من 20 يقسم عليه 6 هو 18.\n",
    "- الفرق بين 18 و 20 هو 2\n",
    "- إذن اقي قسمة 20 على 6 هو 2.\n",
    "\n",
    "يمكننا إجراء عملية الباقي بين متغيرات من نوع `int` و `double` في لغة `C#` عن طريق استخدام العملية `%`"
   ]
  },
  {
   "cell_type": "code",
   "execution_count": 3,
   "metadata": {
    "language_info": {
     "name": "polyglot-notebook"
    },
    "polyglot_notebook": {
     "kernelName": "csharp"
    }
   },
   "outputs": [
    {
     "name": "stdout",
     "output_type": "stream",
     "text": [
      "7 % 4 = 3\n",
      "12 % 3 = 0\n",
      "100 % 6 = 4\n",
      "3 % 10 = 3\n",
      "n1 % n2 = 20 % 6 = 2\n"
     ]
    }
   ],
   "source": [
    "Console.WriteLine(\"7 % 4 = \" + (7 % 4)); // يطبع 3، وهو باقي قسمة 7 على 4\n",
    "Console.WriteLine(\"12 % 3 = \" + (12 % 3)); // يطبع 0، لأنّ 12 تقبل القسمة على 3 بدون باقي\n",
    "Console.WriteLine(\"100 % 6 = \" + (100 % 6)); // يطبع 4، وهو باقي قسمة 100 على 6\n",
    "Console.WriteLine(\"3 % 10 = \" + (3 % 10)); // يطبع 3، لأنّ 3 أصغر من 10، إذن الباقي هو 3 نفسه\n",
    "\n",
    "int n1 = 20;\n",
    "int n2 = 6;\n",
    "Console.WriteLine($\"n1 % n2 = {n1} % {n2} = \" + (n1 % n2)); // يطبع 2، وهو باقي قسمة 20 على 6"
   ]
  },
  {
   "cell_type": "markdown",
   "id": "8fd82f57",
   "metadata": {},
   "source": [
    "من أهم استخدامات عملية الباقي هو تجزئة العدد إلى خاناته المكون منها.\n",
    "\n",
    "عندما نحسب باقي عدد ما على 10، فإنّنا سنحصل على خانة الآحاد في العدد.\n",
    "\n",
    "ثم يمكننا قسمة العدد على 10، ثم أخذ باقي النتيجة على 10 فنحصل على خانة العشرات... وهكذا"
   ]
  },
  {
   "cell_type": "code",
   "execution_count": null,
   "metadata": {
    "language_info": {
     "name": "polyglot-notebook"
    },
    "polyglot_notebook": {
     "kernelName": "csharp"
    }
   },
   "outputs": [
    {
     "name": "stdout",
     "output_type": "stream",
     "text": [
      "847\n",
      "n after deleting units digit = 84\n",
      "n after deleting tens digit = 8\n",
      "n after deleting hundreds digit = 0\n",
      "Original number = 847, Hundreds = 8,Tens = 4, Units = 7\n"
     ]
    }
   ],
   "source": [
    "int n = 847;\n",
    "int originalNumber = n; // نحتفظ بنسخة من n لكي نستخدمها في الطباعة لاحقاً\n",
    "Console.WriteLine(n);\n",
    "\n",
    "int units = n % 10; // خانة الآحاد\n",
    "n = n / 10; // نحذف خانة الآحاد\n",
    "Console.WriteLine(\"n after deleting units digit = \" + n);\n",
    "\n",
    "int tens = n % 10; // خانة العشرات\n",
    "n = n / 10; // نحذف خانة العشرات\n",
    "Console.WriteLine(\"n after deleting tens digit = \" + n);\n",
    "\n",
    "int hundreds = n % 10; // خانة المئات\n",
    "n = n / 10; // نحذف خانة المئات (الآن n يجب أن تكون 0)\n",
    "Console.WriteLine(\"n after deleting hundreds digit = \" + n);\n",
    "\n",
    "Console.WriteLine($\"Original number = {originalNumber}, Hundreds = {hundreds}, Tens = {tens}, Units = {units}\");"
   ]
  }
 ],
 "metadata": {
  "kernelspec": {
   "display_name": ".NET (C#)",
   "language": "C#",
   "name": ".net-csharp"
  },
  "language_info": {
   "name": "polyglot-notebook"
  },
  "polyglot_notebook": {
   "kernelInfo": {
    "defaultKernelName": "csharp",
    "items": [
     {
      "aliases": [],
      "name": "csharp"
     }
    ]
   }
  }
 },
 "nbformat": 4,
 "nbformat_minor": 5
}
