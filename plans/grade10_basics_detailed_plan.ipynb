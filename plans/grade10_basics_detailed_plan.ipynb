{
 "cells": [
  {
   "cell_type": "markdown",
   "id": "723eaa34",
   "metadata": {},
   "source": [
    "<style>\n",
    "/* ---- RTL ONLY for Markdown render (Lab + classic) ---- */\n",
    ".jp-RenderedHTMLCommon,\n",
    ".jp-RenderedHTMLCommon *:not(code):not(pre),\n",
    "div.text_cell_render,\n",
    "div.text_cell_render *:not(code):not(pre),\n",
    "div.rendered_html,\n",
    "div.rendered_html *:not(code):not(pre) {\n",
    "  direction: rtl !important;\n",
    "  text-align: right !important;\n",
    "  unicode-bidi: plaintext !important;\n",
    "  font-family: \"Amiri\", \"Scheherazade\", \"Arial\", sans-serif !important;\n",
    "}\n",
    "\n",
    "/* Place bullets on the right for lists */\n",
    ".jp-RenderedHTMLCommon ul, .jp-RenderedHTMLCommon ol,\n",
    "div.text_cell_render ul, div.text_cell_render ol,\n",
    "div.rendered_html ul, div.rendered_html ol {\n",
    "  padding-right: 1.2em !important;\n",
    "  padding-left: 0 !important;\n",
    "}\n",
    "\n",
    "/* ---- KEEP CODE LTR (inputs & outputs) ---- */\n",
    "\n",
    "/* JupyterLab areas */\n",
    ".jp-CodeCell, .jp-InputArea, .jp-InputPrompt,\n",
    ".jp-OutputArea, .jp-RenderedText, .jp-OutputArea pre, .jp-OutputArea code,\n",
    ".jp-Cell .jp-Editor {\n",
    "  direction: ltr !important;\n",
    "  text-align: left !important;\n",
    "  unicode-bidi: embed !important;\n",
    "  font-family: monospace !important;\n",
    "}\n",
    "\n",
    "/* Classic Notebook areas */\n",
    "div.code_cell, div.input, div.output_area pre, div.output_subarea pre,\n",
    "pre, code, .rendered_html code {\n",
    "  direction: ltr !important;\n",
    "  text-align: left !important;\n",
    "  unicode-bidi: embed !important;\n",
    "  font-family: monospace !important;\n",
    "}\n",
    "\n",
    "/* Inline code inside Markdown should stay LTR */\n",
    ".jp-RenderedHTMLCommon code,\n",
    "div.text_cell_render code,\n",
    "div.rendered_html code {\n",
    "  direction: ltr !important;\n",
    "  unicode-bidi: embed !important;\n",
    "}\n",
    "\n",
    ".ltr {\n",
    "    direction: ltr;\n",
    "    text-align: left;\n",
    "}\n",
    "\n",
    "@page {\n",
    "  size: A4;\n",
    "  margin: 2cm 2cm 2.5cm 2cm; /* bottom margin big enough for footer */\n",
    "}\n",
    "@page {\n",
    "  @bottom-left {\n",
    "    content: \"مدرسة التسامح الشاملة - أم الفحم\";\n",
    "    font-size: 10pt;\n",
    "    font-family: Amiri !important;\n",
    "    direction: rtl;\n",
    "    border-top: 2px solid black; /* line above footer */\n",
    "    padding-top: 2px; /* spacing between line and text */\n",
    "    border-color: green;\n",
    "  }\n",
    "  @bottom-right {\n",
    "    content: \"الأستاذ محمود اغبارية\";\n",
    "    font-size: 10pt;\n",
    "    font-family: Amiri !important;\n",
    "    direction: rtl;\n",
    "    border-top: 2px solid black; /* line above footer */\n",
    "    padding-top: 2px; /* spacing between line and text */\n",
    "    border-color: green;\n",
    "  }\n",
    "  @bottom-center {\n",
    "    content: counter(page);\n",
    "    font-size: 10pt;\n",
    "    border-top: 2px solid black; /* line above footer */\n",
    "    padding-top: 2px; /* spacing between line and text */\n",
    "    border-color: green;\n",
    "  }\n",
    "}\n",
    "\n",
    "</style>\n"
   ]
  },
  {
   "cell_type": "markdown",
   "id": "a4afce5e",
   "metadata": {},
   "source": [
    "**المحتويات**<a id='toc0_'></a>    \n",
    "- [المقدمة ومصطلحات أساسية](#toc1_)    \n",
    "  - [مقدمة عن الخوارزميات والبرمجة](#toc1_1_)    \n",
    "  - [كتابة إلى الشاشة، وقراءة من المستخدم](#toc1_2_)    \n",
    "  - [المتغيرات](#toc1_3_)    \n",
    "  - [مقدمة قصيرة عن الفئات](#toc1_4_)    \n",
    "  - [التعامل مع متغير النص `String`](#toc1_5_)    \n",
    "  - [العمليات الخارجية](#toc1_6_)    \n",
    "  - [جدول المتابعة](#toc1_7_)    \n",
    "  - [معالجة أخطاء الكتابة، التشغيل، أخطاء منطقية](#toc1_8_)    \n",
    "- [الشرط](#toc2_)    \n",
    "- [حلقات](#toc3_)    \n",
    "- [مباني معطيات عادية](#toc4_)    \n",
    "- [كائنات وفئات](#toc5_)    \n",
    "\n",
    "<!-- vscode-jupyter-toc-config\n",
    "\tnumbering=false\n",
    "\tanchor=true\n",
    "\tflat=false\n",
    "\tminLevel=1\n",
    "\tmaxLevel=6\n",
    "\t/vscode-jupyter-toc-config -->\n",
    "<!-- THIS CELL WILL BE REPLACED ON TOC UPDATE. DO NOT WRITE YOUR TEXT IN THIS CELL -->"
   ]
  },
  {
   "cell_type": "markdown",
   "id": "5babaaea",
   "metadata": {},
   "source": [
    "<div style=\"page-break-after: always;\"></div>"
   ]
  },
  {
   "cell_type": "markdown",
   "id": "3d715079",
   "metadata": {},
   "source": [
    "# <a id='toc1_'></a>[المقدمة ومصطلحات أساسية](#toc0_)\n",
    "\n",
    "هذا القسم يحتوي على المواضيع الرئيسية التالية:\n"
   ]
  },
  {
   "cell_type": "markdown",
   "id": "3fd5836b",
   "metadata": {},
   "source": [
    "## <a id='toc1_1_'></a>[مقدمة عن الخوارزميات والبرمجة](#toc0_)\n",
    "\n",
    "انظر عرض \"مقدمة\" الذي أعددته.\n",
    "\n",
    "بعده نبدأ بالبرمجة.\n",
    "\n",
    "* البدء خطوة بخطوة إلى أن ينشئ الطالب مشروعًا جديدًا في Visual Studio\n",
    "* التعريف بمبنى المشروع العام\n",
    "* التعريف بمبنى الملف `Program.cs` العام\n"
   ]
  },
  {
   "cell_type": "markdown",
   "id": "fe374749",
   "metadata": {},
   "source": [
    "\n",
    "## <a id='toc1_2_'></a>[كتابة إلى الشاشة، وقراءة من المستخدم](#toc0_)\n",
    "\n",
    "* نشرح بأقل الممكن طريقة طباعة متغير على الشاشة أو أي نص\n",
    "* نشرح بأقل الممكن طريقة استقبال عدد من المستخدم\n"
   ]
  },
  {
   "cell_type": "markdown",
   "id": "e248677a",
   "metadata": {},
   "source": [
    "\n",
    "## <a id='toc1_3_'></a>[المتغيرات](#toc0_)\n",
    "\n",
    "1. المتغيرات: تعريفها وإعطاؤها قيمة (الاسم والنوع لا يتغيران، القيمة تتغير)\n",
    "2. الأنواع الأساسية للمتغيرات،\n",
    "3. *قوانين أسماء المتغيرات المسموحة*\n",
    "4. **أهمية اختيار اسم معبّر للمتغير**\n",
    "5. خاصة: `int` و `double` ومجالات قيم كل نوع (القيم بالبرمجة محدودة وليس كما في العالم غير محدودة)\n",
    "6. العمليات الحسابية على المتغيرات:\n",
    "  * جمع\n",
    "  * طرح\n",
    "  * ضرب\n",
    "  * قسمة\n",
    "  * باقي\n",
    "  * ترتيب العمليات الحسابية (مع أقواس وبدون)\n",
    "7. تحويل بين الأنواع  `int` و `double`:\n",
    "  * تحويل صريح\n",
    "  * تحويل ضمني (عند قسمة `int` على `double` مثلا)\n",
    "8. تعريف المتغير وإعطاؤه قيمة في نفس السطر أو في سطرين مختلفين.\n",
    "9. إعطاء قيمة للمتغير هو نسخ وليس نقل للقيمة\n"
   ]
  },
  {
   "cell_type": "markdown",
   "id": "d21f3e4e",
   "metadata": {},
   "source": [
    "\n",
    "## <a id='toc1_4_'></a>[مقدمة قصيرة عن الفئات](#toc0_)\n",
    "\n",
    "1. الفئات:\n",
    "  * تعريف المصطلحات: فئة، كائن، خاصية، عملية\n",
    "  * قراءة ملف فئة وفهمه\n",
    "  * إنشاء كائن من فئة معينة\n",
    "  * استدعاء عمليات فئة معينة\n",
    "2. استدعاء عمليات `static` من فئة خارجية: `ClassName.MethodName()` بأقل تفصيل ممكن (التعامل مع `Math` كمجموعة عمليات كتبها شخص آخر ونحن نستدعيها.)\n",
    "3. عمليات الفئة `Math`:\n",
    "  * `Math.Abs`\n",
    "  * `Math.Max`\n",
    "  * `Math.Min`\n",
    "  * `Math.Pow`\n",
    "  * `Math.Round`\n",
    "  * `Math.Sqrt`\n",
    "4. الفئة `Random` واستخداماتها (على الخفيف)\n",
    "5. قراء ملف فئة وفهمه + قراءة برنامج يستخدم هذه الفئة وفهمه + تغيير هذا البرنامج للحصول على النتيجة المطلوبة\n"
   ]
  },
  {
   "cell_type": "markdown",
   "id": "2ebe13c0",
   "metadata": {},
   "source": [
    "\n",
    "## <a id='toc1_5_'></a>[التعامل مع متغير النص `String`](#toc0_)\n",
    "\n",
    "* ربط نصين ببعضهما\n",
    "* تنسيق النص مع متغيرات `$`\n",
    "* `int.Parse(Console.ReadLine());`\n",
    "* `double.Parse(Console.ReadLine());`\n",
    "* **موضوع `String` ليس مطلوبًا لأول وحدتين، المطلوب فقط التعامل الأساسي معه لأجل الطباعة واستقبال المتغيرات**\n"
   ]
  },
  {
   "cell_type": "markdown",
   "id": "d8280ed1",
   "metadata": {},
   "source": [
    "\n",
    "## <a id='toc1_6_'></a>[العمليات الخارجية](#toc0_)\n",
    "\n",
    "1. مثال يبين أهمية تقسيم البرنامج إلى عمليات صغيرة:\n",
    "  * وجود الأخطاء أسرع\n",
    "  * فحص الكود (testing) أسهل\n",
    "  * يمنع من تكرار الكود، ويمكننا من إعادة استخدامه\n",
    "  * أسهل للقراءة\n",
    "  * حل المشكلة يصبح أسهل\n",
    "2. مبنى تعريف العملية واستدعاؤها:\n",
    "  * ختم العملية\n",
    "  * القيمة المرجعة\n",
    "  * جسم العملية (بين أقواس  مجعّدة)\n",
    "3. تعريف عمليات خاصة (`private`):\n",
    "  * لا تستقبل متغيرات ولا ترجع قيمة (تحسب شيئا وتطبعه مثلا)\n",
    "  * استقبال متغيرات في العملية الخارجية\n",
    "  * إرجاع قيمة في العملية الخارجية\n",
    "  * استعداء العمليات مع قيمة المتغير (call by value) - توضيح لا علاقة بين `x` في `Main` و `x` في العملية الخارجية\n",
    "  * نحن نجري العمليات على **قيمة** المتغير وليس على المتغير نفسه.\n",
    "4. تمرين الطالب على ترتيب برنامج وتقسيمه لعمليات صغيرة\n",
    "5. شرح دمج القيمة المرجعة من العملية في تعبير رياضي\n",
    "\n"
   ]
  },
  {
   "cell_type": "markdown",
   "id": "b9a09250",
   "metadata": {},
   "source": [
    "\n",
    "## <a id='toc1_7_'></a>[جدول المتابعة](#toc0_)\n",
    "\n",
    "* الجدول يحتوي على عمود لكل متغير نريد متابعته.\n",
    "* يحتوي أيضًا على عمود للمخرجات\n",
    "* يحتوي على عمود للشروط (عندما نتعلمها)\n",
    "* إذا كان أحد المتغيرات هو كائن، فالعمود الخاص به يشير إلى ما يبيّن قيم خصائصه.\n"
   ]
  },
  {
   "cell_type": "markdown",
   "id": "d0cd306d",
   "metadata": {},
   "source": [
    "\n",
    "## <a id='toc1_8_'></a>[معالجة أخطاء الكتابة، التشغيل، أخطاء منطقية](#toc0_)\n",
    "\n",
    "برأيي هذا حسب الحاجة، ربما نكون قد غطيناه خلال العمل السابق.\n"
   ]
  },
  {
   "cell_type": "markdown",
   "id": "d2abb35d",
   "metadata": {},
   "source": [
    "\n",
    "# <a id='toc2_'></a>[الشرط](#toc0_)\n"
   ]
  },
  {
   "cell_type": "markdown",
   "id": "64694abf",
   "metadata": {},
   "source": [
    "\n",
    "# <a id='toc3_'></a>[حلقات](#toc0_)\n"
   ]
  },
  {
   "cell_type": "markdown",
   "id": "185f938e",
   "metadata": {},
   "source": [
    "\n",
    "# <a id='toc4_'></a>[مباني معطيات عادية](#toc0_)\n"
   ]
  },
  {
   "cell_type": "markdown",
   "id": "ef982093",
   "metadata": {},
   "source": [
    "\n",
    "# <a id='toc5_'></a>[كائنات وفئات](#toc0_)\n"
   ]
  }
 ],
 "metadata": {
  "language_info": {
   "name": "python"
  }
 },
 "nbformat": 4,
 "nbformat_minor": 5
}
